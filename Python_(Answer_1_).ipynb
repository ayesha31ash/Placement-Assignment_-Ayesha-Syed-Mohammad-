{
  "nbformat": 4,
  "nbformat_minor": 0,
  "metadata": {
    "colab": {
      "provenance": []
    },
    "kernelspec": {
      "name": "python3",
      "display_name": "Python 3"
    },
    "language_info": {
      "name": "python"
    }
  },
  "cells": [
    {
      "cell_type": "code",
      "execution_count": null,
      "metadata": {
        "colab": {
          "base_uri": "https://localhost:8080/"
        },
        "id": "Hj4OZo3Uio3H",
        "outputId": "f5d37963-2c1b-4a44-c9f9-fe6cd7c69e64"
      },
      "outputs": [
        {
          "output_type": "stream",
          "name": "stdout",
          "text": [
            "5\n"
          ]
        }
      ],
      "source": [
        "def find_highest_frequency_word_length(string):\n",
        "    # Split the string into words\n",
        "    words = string.split()\n",
        "\n",
        "    # Count the frequency of each word\n",
        "    word_count = {}\n",
        "    for word in words:\n",
        "        if word in word_count:\n",
        "            word_count[word] += 1\n",
        "        else:\n",
        "            word_count[word] = 1\n",
        "\n",
        "    # Find the word(s) with the highest frequency\n",
        "    max_frequency = max(word_count.values())\n",
        "    highest_frequency_words = [word for word, count in word_count.items() if count == max_frequency]\n",
        "\n",
        "    # Find the length of the highest-frequency word\n",
        "    highest_frequency_word_length = len(max(highest_frequency_words, key=len))\n",
        "\n",
        "    return highest_frequency_word_length\n",
        "\n",
        "# Test the function with the example input\n",
        "string = \"write write write all the number from from from 1 to 100\"\n",
        "print(find_highest_frequency_word_length(string))  "
      ]
    },
    {
      "cell_type": "markdown",
      "source": [
        "Explanation:\n",
        "\n",
        "1. The function `find_highest_frequency_word_length` takes a string as input.\n",
        "2. The string is split into words using the `split() `method, which splits the string at whitespace characters and returns a list of words.\n",
        "3. A dictionary named `word_count` is created to store the frequency of each word. The loop iterates over each word in the `words `list and updates the count in the dictionary.\n",
        "4. The `max()` function is used to find the maximum frequency among all the words.\n",
        "5. The list comprehension `[word for word, count in word_count.items() if count == max_frequency] `creates a list of words that have the maximum frequency.\n",
        "6. The` len()` function is applied to the word with the maximum length among the highest-frequency words to obtain the length of the word.\n",
        "7. The length of the highest-frequency word is returned as the output."
      ],
      "metadata": {
        "id": "jirwUTBSj19m"
      }
    },
    {
      "cell_type": "markdown",
      "source": [
        "### Test Case 1:-"
      ],
      "metadata": {
        "id": "MuZTEB37m2fL"
      }
    },
    {
      "cell_type": "code",
      "source": [
        "string = \"apple orange apple banana orange\"\n",
        "print(find_highest_frequency_word_length(string))"
      ],
      "metadata": {
        "colab": {
          "base_uri": "https://localhost:8080/"
        },
        "id": "CbwovRgai_yH",
        "outputId": "f0c2c621-6e67-464a-99b2-46fd4229f00c"
      },
      "execution_count": null,
      "outputs": [
        {
          "output_type": "stream",
          "name": "stdout",
          "text": [
            "6\n"
          ]
        }
      ]
    },
    {
      "cell_type": "markdown",
      "source": [
        "**Explanation**: In this case, the word \"orange\" and the word \"apple\" both have a frequency of 2, which is the maximum frequency. The length of the longest word, \"orange,\" is 6."
      ],
      "metadata": {
        "id": "zQwjmhGNlYa7"
      }
    },
    {
      "cell_type": "markdown",
      "source": [
        "### Test case 2:-"
      ],
      "metadata": {
        "id": "cNBMnJm4msIq"
      }
    },
    {
      "cell_type": "code",
      "source": [
        "string = \"Hello world! Hello i am Ayesha Ayesha !\"\n",
        "print(find_highest_frequency_word_length(string))"
      ],
      "metadata": {
        "colab": {
          "base_uri": "https://localhost:8080/"
        },
        "id": "YsMmpR9ajFud",
        "outputId": "1145e5fd-0f52-459a-9d1b-8fcc92978f2b"
      },
      "execution_count": null,
      "outputs": [
        {
          "output_type": "stream",
          "name": "stdout",
          "text": [
            "6\n"
          ]
        }
      ]
    },
    {
      "cell_type": "markdown",
      "source": [
        "**Explanation**: In this case, the word \"Hello\" and \"Ayesha\" both have a frequency of 2, which is the maximum frequency. The length of the word \"Ayesha\" is 6."
      ],
      "metadata": {
        "id": "OgfQC4MNli7R"
      }
    }
  ]
}