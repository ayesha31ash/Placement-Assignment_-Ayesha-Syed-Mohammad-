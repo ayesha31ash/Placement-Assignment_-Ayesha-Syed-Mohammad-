{
  "nbformat": 4,
  "nbformat_minor": 0,
  "metadata": {
    "colab": {
      "provenance": []
    },
    "kernelspec": {
      "name": "python3",
      "display_name": "Python 3"
    },
    "language_info": {
      "name": "python"
    }
  },
  "cells": [
    {
      "cell_type": "markdown",
      "source": [
        "To calculate the variance of Y, the coefficient of determination of X and Y, and the standard error of estimate of X on Y and Y on X, we need additional information such as the correlation coefficient between X and Y. However, based on the equations provided, we can make some assumptions and proceed with the calculations.\n",
        "\n",
        "Given the equations of the regression lines:\n",
        "\n",
        "2X + 3 − 8 = 0\n",
        "2Y + X − 5 = 0\n",
        "We can rearrange these equations to the standard form of a line (Y = mX + b) to obtain the slopes (m) and intercepts (b) for each line:\n",
        "\n",
        "Line equation for X on Y:\n",
        "2X = 5 - X\n",
        "3X = 5\n",
        "X = 5/3\n",
        "\n",
        "Therefore, the slope (m1) for X on Y is 5/3, and the intercept (b1) is 0.\n",
        "\n",
        "Line equation for Y on X:\n",
        "2Y = -X + 5\n",
        "Y = -1/2X + 5/2\n",
        "\n",
        "Therefore, the slope (m2) for Y on X is -1/2, and the intercept (b2) is 5/2.\n",
        "\n",
        "Now, let's calculate the requested values:\n",
        "\n",
        "a. Variance of Y:\n",
        "Since the variance of X is given as 4, we need to assume that the correlation coefficient between X and Y is 1 (perfect positive correlation). In this case, the variance of Y will also be 4.\n",
        "\n",
        "b. Coefficient of determination of X and Y:\n",
        "The coefficient of determination (r^2) represents the proportion of the variance in Y that can be explained by X. It is equal to the square of the correlation coefficient. Since the correlation coefficient is assumed to be 1, the coefficient of determination will also be 1.\n",
        "\n",
        "c. Standard error of estimate of X on Y and Y on X:\n",
        "The standard error of estimate measures the average distance between the observed values and the regression line. The standard error of estimate for X on Y (Sxy) and Y on X (Syx) can be calculated using the formulas:\n",
        "\n",
        "Sxy = sqrt((1 - r^2) * Var(X))\n",
        "Syx = sqrt((1 - r^2) * Var(Y))\n",
        "\n",
        "Since the correlation coefficient is assumed to be 1 and the variances of X and Y are given as 4, the standard error of estimate for X on Y (Sxy) and Y on X (Syx) will be:\n",
        "\n",
        "Sxy = sqrt((1 - 1) * 4) = 0\n",
        "Syx = sqrt((1 - 1) * 4) = 0\n",
        "\n",
        "Please note that these calculations are based on the given equations and assumptions made about the correlation coefficient. Without additional information, such as the actual correlation coefficient, we cannot provide more accurate values for the coefficient of determination and standard error of estimate"
      ],
      "metadata": {
        "id": "4J-RvTn6JUVY"
      }
    },
    {
      "cell_type": "code",
      "source": [],
      "metadata": {
        "id": "8wlin_GhJWJo"
      },
      "execution_count": null,
      "outputs": []
    }
  ]
}