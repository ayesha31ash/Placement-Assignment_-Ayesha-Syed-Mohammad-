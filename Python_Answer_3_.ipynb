{
  "nbformat": 4,
  "nbformat_minor": 0,
  "metadata": {
    "colab": {
      "provenance": []
    },
    "kernelspec": {
      "name": "python3",
      "display_name": "Python 3"
    },
    "language_info": {
      "name": "python"
    }
  },
  "cells": [
    {
      "cell_type": "code",
      "execution_count": null,
      "metadata": {
        "id": "PKzpupGkdFhn"
      },
      "outputs": [],
      "source": [
        "import requests\n",
        "import pandas as pd\n",
        "\n",
        "def download_and_convert_data(url):\n",
        "    # Download the data from the provided link\n",
        "    response = requests.get(url)\n",
        "    data = response.json()\n",
        "\n",
        "    # Convert the data into a pandas DataFrame\n",
        "    df = pd.DataFrame(data['pokemon'])\n",
        "\n",
        "    # Convert the DataFrame to Excel format\n",
        "    excel_data = df.to_excel(\"pokemon_data.xlsx\", index=False)\n",
        "\n",
        "    return excel_data\n",
        "\n",
        "# Test the function with the provided link\n",
        "link = \"https://raw.githubusercontent.com/Biuni/PokemonGO-Pokedex/master/pokedex.json\"\n",
        "download_and_convert_data(link)\n"
      ]
    }
  ]
}