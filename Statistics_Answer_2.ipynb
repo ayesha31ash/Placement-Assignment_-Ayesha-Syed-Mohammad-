{
  "nbformat": 4,
  "nbformat_minor": 0,
  "metadata": {
    "colab": {
      "provenance": []
    },
    "kernelspec": {
      "name": "python3",
      "display_name": "Python 3"
    },
    "language_info": {
      "name": "python"
    }
  },
  "cells": [
    {
      "cell_type": "code",
      "source": [
        "import scipy.stats as stats\n",
        "\n",
        "# Given information\n",
        "mean_height = 170\n",
        "std_deviation = 10\n",
        "sample_size = 1000\n",
        "\n",
        "# a. Percentage of individuals with heights between 160 cm and 180 cm\n",
        "z1 = (160 - mean_height) / std_deviation\n",
        "z2 = (180 - mean_height) / std_deviation\n",
        "percentage_between_160_180 = stats.norm.cdf(z2) - stats.norm.cdf(z1)\n",
        "percentage_between_160_180 *= 100\n",
        "print(\"Percentage of individuals with heights between 160 cm and 180 cm:\", percentage_between_160_180)\n",
        "\n",
        "# b. Probability that the average height of 100 individuals is greater than 175 cm\n",
        "sample_mean = mean_height\n",
        "sample_std_deviation = std_deviation / (sample_size ** 0.5)\n",
        "z = (175 - sample_mean) / sample_std_deviation\n",
        "probability_greater_than_175 = 1 - stats.norm.cdf(z)\n",
        "print(\"Probability that the average height of 100 individuals is greater than 175 cm:\", probability_greater_than_175)\n",
        "\n",
        "# c. Z-score corresponding to a height of 185 cm\n",
        "height = 185\n",
        "z_score = (height - mean_height) / std_deviation\n",
        "print(\"Z-score corresponding to a height of 185 cm:\", z_score)\n",
        "\n",
        "# d. Approximate height corresponding to the threshold of 5%\n",
        "threshold = stats.norm.ppf(0.05) * std_deviation + mean_height\n",
        "print(\"Approximate height corresponding to the threshold of 5%:\", threshold)\n",
        "\n",
        "# e. Coefficient of Variation (CV) for the dataset\n",
        "cv = (std_deviation / mean_height) * 100\n",
        "print(\"Coefficient of Variation (CV) for the dataset:\", cv)\n",
        "\n",
        "# f. Skewness of the dataset\n",
        "skewness = 0  # As given that the skewness is approximately zero\n",
        "print(\"Skewness of the dataset:\", skewness)"
      ],
      "metadata": {
        "colab": {
          "base_uri": "https://localhost:8080/"
        },
        "id": "mwwZRvsW445q",
        "outputId": "aaabff60-1243-4120-9893-b17c9c60036e"
      },
      "execution_count": null,
      "outputs": [
        {
          "output_type": "stream",
          "name": "stdout",
          "text": [
            "Percentage of individuals with heights between 160 cm and 180 cm: 68.26894921370858\n",
            "Probability that the average height of 100 individuals is greater than 175 cm: 0.0\n",
            "Z-score corresponding to a height of 185 cm: 1.5\n",
            "Approximate height corresponding to the threshold of 5%: 153.55146373048527\n",
            "Coefficient of Variation (CV) for the dataset: 5.88235294117647\n",
            "Skewness of the dataset: 0\n"
          ]
        }
      ]
    }
  ]
}