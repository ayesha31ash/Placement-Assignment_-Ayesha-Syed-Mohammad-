{
  "nbformat": 4,
  "nbformat_minor": 0,
  "metadata": {
    "colab": {
      "provenance": []
    },
    "kernelspec": {
      "name": "python3",
      "display_name": "Python 3"
    },
    "language_info": {
      "name": "python"
    }
  },
  "cells": [
    {
      "cell_type": "code",
      "execution_count": null,
      "metadata": {
        "id": "S2NSyXMpHUPX"
      },
      "outputs": [],
      "source": [
        "import pandas as pd\n",
        "from scipy.stats import shapiro\n",
        "\n",
        "# Load the data from the provided link\n",
        "data_url = 'https://drive.google.com/uc?export=download&id=1mCjtYHiX--mMUjicuaP2gH3k-SnFxt8Y'\n",
        "df = pd.read_csv(data_url)\n",
        "\n",
        "# Extract the 'Blood Pressure Change' column\n",
        "bp_change = df['Blood Pressure After (mmHg)'] - df['Blood Pressure Before (mmHg)']\n",
        "\n",
        "# Perform Shapiro-Wilk test\n",
        "stat, p_value = shapiro(bp_change)\n",
        "\n",
        "# Check the normality assumption\n",
        "alpha = 0.05\n",
        "if p_value > alpha:\n",
        "    print(\"The change in blood pressure follows a normal distribution.\")\n",
        "else:\n",
        "    print(\"The change in blood pressure does not follow a normal distribution.\")\n"
      ]
    }
  ]
}