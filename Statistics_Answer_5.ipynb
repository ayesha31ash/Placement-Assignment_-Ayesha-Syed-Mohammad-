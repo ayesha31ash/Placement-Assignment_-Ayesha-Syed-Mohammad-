{
  "nbformat": 4,
  "nbformat_minor": 0,
  "metadata": {
    "colab": {
      "provenance": []
    },
    "kernelspec": {
      "name": "python3",
      "display_name": "Python 3"
    },
    "language_info": {
      "name": "python"
    }
  },
  "cells": [
    {
      "cell_type": "markdown",
      "source": [
        "To solve this problem, we can use Bayes' theorem. Let's denote the following events:\n",
        "\n",
        "A: The selected taxi belongs to Company A.\n",
        "B: The selected taxi is late.\n",
        "\n",
        "We need to calculate the conditional probability P(A|B), which represents the probability that the selected taxi belongs to Company A given that it is late.\n",
        "\n",
        "According to Bayes' theorem:\n",
        "\n",
        "P(A|B) = (P(B|A) * P(A)) / P(B)\n",
        "\n",
        "P(B|A) is the probability of the taxi being late given that it belongs to Company A. This is given as 1 - success rate = 1 - 0.95 = 0.05.\n",
        "\n",
        "P(A) is the probability of selecting a taxi from Company A, which is given as 0.8.\n",
        "\n",
        "P(B) is the overall probability of a taxi being late, which can be calculated by considering the probabilities from both companies:\n",
        "\n",
        "P(B) = P(B|A) * P(A) + P(B|B) * P(B)\n",
        "\n",
        "P(B|B) is the probability of the taxi being late given that it belongs to Company B, which is given as 1 - success rate = 1 - 0.90 = 0.10.\n",
        "\n",
        "P(B) = P(B|A) * P(A) + P(B|B) * P(B)\n",
        "= 0.05 * 0.8 + 0.10 * 0.2\n",
        "= 0.04 + 0.02\n",
        "= 0.06\n",
        "\n",
        "Now we can substitute these values into the formula for P(A|B):\n",
        "\n",
        "P(A|B) = (P(B|A) * P(A)) / P(B)\n",
        "= (0.05 * 0.8) / 0.06\n",
        "= 0.04 / 0.06\n",
        "= 2/3\n",
        "≈ 0.6667\n",
        "\n",
        "Therefore, the probability that a randomly selected taxi is from Company A, given that it is late, is approximately 0.6667 or 66.67%."
      ],
      "metadata": {
        "id": "zSaC3jPfHPK5"
      }
    }
  ]
}