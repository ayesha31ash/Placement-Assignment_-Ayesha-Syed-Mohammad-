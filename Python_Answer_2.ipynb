{
  "nbformat": 4,
  "nbformat_minor": 0,
  "metadata": {
    "colab": {
      "provenance": []
    },
    "kernelspec": {
      "name": "python3",
      "display_name": "Python 3"
    },
    "language_info": {
      "name": "python"
    }
  },
  "cells": [
    {
      "cell_type": "code",
      "execution_count": null,
      "metadata": {
        "colab": {
          "base_uri": "https://localhost:8080/"
        },
        "id": "CId6287Lnr-L",
        "outputId": "b58eed04-a18d-49c3-bad3-67cf1d4a0dca"
      },
      "outputs": [
        {
          "output_type": "stream",
          "name": "stdout",
          "text": [
            "YES\n",
            "NO\n"
          ]
        }
      ],
      "source": [
        "def is_valid_string(s):\n",
        "    # Count the frequency of each character\n",
        "    char_count = {}\n",
        "    for char in s:\n",
        "        if char in char_count:\n",
        "            char_count[char] += 1\n",
        "        else:\n",
        "            char_count[char] = 1\n",
        "\n",
        "    # Check if all characters have the same frequency\n",
        "    frequencies = set(char_count.values())\n",
        "    if len(frequencies) == 1:\n",
        "        return \"YES\"  # All characters have the same frequency\n",
        "\n",
        "    # Check if removing one character can make the frequencies the same\n",
        "    if len(frequencies) == 2:\n",
        "        count1, count2 = frequencies\n",
        "        if (count1 == 1 and list(char_count.values()).count(count1) == 1) or (count2 == 1 and list(char_count.values()).count(count2) == 1):\n",
        "            return \"YES\"  # Removing one character makes the frequencies the same\n",
        "\n",
        "    return \"NO\"  # String is not valid\n",
        "\n",
        "# Test the function with the example inputs\n",
        "print(is_valid_string(\"abc\"))\n",
        "print(is_valid_string(\"abcc\"))"
      ]
    },
    {
      "cell_type": "markdown",
      "source": [
        "### Test Case 1:-"
      ],
      "metadata": {
        "id": "dlf1EvGTcdt6"
      }
    },
    {
      "cell_type": "code",
      "source": [
        "print(is_valid_string(\"aabcc\"))"
      ],
      "metadata": {
        "colab": {
          "base_uri": "https://localhost:8080/"
        },
        "id": "HP8ZYcefcTeB",
        "outputId": "5f112e3e-fadb-4fb8-924c-dad7ba7066d2"
      },
      "execution_count": null,
      "outputs": [
        {
          "output_type": "stream",
          "name": "stdout",
          "text": [
            "YES\n"
          ]
        }
      ]
    },
    {
      "cell_type": "markdown",
      "source": [
        "**Explanation**: In this case, the string has the character frequencies: `{\"a\": 2, \"b\": 1, \"c\": 2}`. All characters have the same frequency, so the function returns \"YES\"."
      ],
      "metadata": {
        "id": "qCtdZi0ccYKE"
      }
    },
    {
      "cell_type": "markdown",
      "source": [
        "### Test Case 2:-"
      ],
      "metadata": {
        "id": "K6mBikPFc9ie"
      }
    },
    {
      "cell_type": "code",
      "source": [
        "print(is_valid_string(\"aabbccc\")) "
      ],
      "metadata": {
        "colab": {
          "base_uri": "https://localhost:8080/"
        },
        "id": "ibhocXjKctvx",
        "outputId": "df089bc8-f1a3-42fa-eb1b-b173a62b0109"
      },
      "execution_count": null,
      "outputs": [
        {
          "output_type": "stream",
          "name": "stdout",
          "text": [
            "NO\n"
          ]
        }
      ]
    },
    {
      "cell_type": "markdown",
      "source": [
        "**Explanation:** In this case, the string has the character frequencies: `{\"a\": 2, \"b\": 2, \"c\": 3}`. There are two different frequencies (2 and 3), and removing one character will not make the frequencies the same, so the function returns \"NO\"."
      ],
      "metadata": {
        "id": "yMhv8ylQcuJ9"
      }
    }
  ]
}