{
  "nbformat": 4,
  "nbformat_minor": 0,
  "metadata": {
    "colab": {
      "provenance": []
    },
    "kernelspec": {
      "name": "python3",
      "display_name": "Python 3"
    },
    "language_info": {
      "name": "python"
    }
  },
  "cells": [
    {
      "cell_type": "code",
      "source": [
        "pip install nltk"
      ],
      "metadata": {
        "colab": {
          "base_uri": "https://localhost:8080/"
        },
        "id": "kGsJD8GwqjL_",
        "outputId": "6142d1ac-18e4-4698-fca7-9588f54bdf10"
      },
      "execution_count": null,
      "outputs": [
        {
          "output_type": "stream",
          "name": "stdout",
          "text": [
            "Looking in indexes: https://pypi.org/simple, https://us-python.pkg.dev/colab-wheels/public/simple/\n",
            "Requirement already satisfied: nltk in /usr/local/lib/python3.10/dist-packages (3.8.1)\n",
            "Requirement already satisfied: click in /usr/local/lib/python3.10/dist-packages (from nltk) (8.1.3)\n",
            "Requirement already satisfied: joblib in /usr/local/lib/python3.10/dist-packages (from nltk) (1.2.0)\n",
            "Requirement already satisfied: regex>=2021.8.3 in /usr/local/lib/python3.10/dist-packages (from nltk) (2022.10.31)\n",
            "Requirement already satisfied: tqdm in /usr/local/lib/python3.10/dist-packages (from nltk) (4.65.0)\n"
          ]
        }
      ]
    },
    {
      "cell_type": "code",
      "source": [
        "import nltk\n",
        "from nltk import pos_tag\n",
        "from nltk.tokenize import word_tokenize\n",
        "\n",
        "def count_word_types(phrase):\n",
        "    # Download the required NLTK resources if not already downloaded\n",
        "    nltk.download('punkt')\n",
        "    nltk.download('averaged_perceptron_tagger')\n",
        "\n",
        "    # Tokenize the phrase into words\n",
        "    words = word_tokenize(phrase)\n",
        "\n",
        "    # Perform part-of-speech tagging\n",
        "    tagged_words = pos_tag(words)\n",
        "\n",
        "    # Initialize count variables\n",
        "    noun_count = 0\n",
        "    pronoun_count = 0\n",
        "    verb_count = 0\n",
        "    adjective_count = 0\n",
        "\n",
        "    # Count the occurrences of each word type\n",
        "    for word, tag in tagged_words:\n",
        "        if tag.startswith('NN'):  # Noun\n",
        "            noun_count += 1\n",
        "        elif tag.startswith('PR'):  # Pronoun\n",
        "            pronoun_count += 1\n",
        "        elif tag.startswith('VB'):  # Verb\n",
        "            verb_count += 1\n",
        "        elif tag.startswith('JJ'):  # Adjective\n",
        "            adjective_count += 1\n",
        "\n",
        "    # Create a dictionary with the counts\n",
        "    word_counts = {\n",
        "        \"nouns\": noun_count,\n",
        "        \"pronouns\": pronoun_count,\n",
        "        \"verbs\": verb_count,\n",
        "        \"adjectives\": adjective_count\n",
        "    }\n",
        "\n",
        "    return word_counts\n",
        "\n",
        "# Example usage\n",
        "phrase = \"The cat chased the mouse\"\n",
        "result = count_word_types(phrase)\n",
        "print(result)"
      ],
      "metadata": {
        "colab": {
          "base_uri": "https://localhost:8080/"
        },
        "id": "zecmgYAxrPRb",
        "outputId": "3d581e64-639d-4535-bdfa-c0627f12230a"
      },
      "execution_count": null,
      "outputs": [
        {
          "output_type": "stream",
          "name": "stderr",
          "text": [
            "[nltk_data] Downloading package punkt to /root/nltk_data...\n",
            "[nltk_data]   Package punkt is already up-to-date!\n",
            "[nltk_data] Downloading package averaged_perceptron_tagger to\n",
            "[nltk_data]     /root/nltk_data...\n",
            "[nltk_data]   Unzipping taggers/averaged_perceptron_tagger.zip.\n"
          ]
        },
        {
          "output_type": "stream",
          "name": "stdout",
          "text": [
            "{'nouns': 2, 'pronouns': 0, 'verbs': 1, 'adjectives': 0}\n"
          ]
        }
      ]
    },
    {
      "cell_type": "markdown",
      "source": [
        "**Test Case 1:-**"
      ],
      "metadata": {
        "id": "p8-hnDUbswGt"
      }
    },
    {
      "cell_type": "code",
      "source": [
        "text = \"The quick brown fox jumps over the lazy dog. The dog barks loudly. The fox runs away.\"\n",
        "counts = count_word_types(text)\n",
        "print(counts)"
      ],
      "metadata": {
        "colab": {
          "base_uri": "https://localhost:8080/"
        },
        "id": "zlydilrcrSS3",
        "outputId": "e12d47c8-9fb3-47ab-e7fe-29cf55fd60ce"
      },
      "execution_count": null,
      "outputs": [
        {
          "output_type": "stream",
          "name": "stdout",
          "text": [
            "{'nouns': 5, 'pronouns': 0, 'verbs': 3, 'adjectives': 2}\n"
          ]
        },
        {
          "output_type": "stream",
          "name": "stderr",
          "text": [
            "[nltk_data] Downloading package punkt to /root/nltk_data...\n",
            "[nltk_data]   Package punkt is already up-to-date!\n",
            "[nltk_data] Downloading package averaged_perceptron_tagger to\n",
            "[nltk_data]     /root/nltk_data...\n",
            "[nltk_data]   Package averaged_perceptron_tagger is already up-to-\n",
            "[nltk_data]       date!\n"
          ]
        }
      ]
    },
    {
      "cell_type": "markdown",
      "source": [
        "**Test Case 2:-**"
      ],
      "metadata": {
        "id": "A_pTB2kUtCcG"
      }
    },
    {
      "cell_type": "code",
      "source": [
        "text = \"He loves to play soccer. She enjoys reading books.\"\n",
        "counts = count_word_types(text)\n",
        "print(counts)"
      ],
      "metadata": {
        "colab": {
          "base_uri": "https://localhost:8080/"
        },
        "id": "zpqkVgJ9tBsV",
        "outputId": "c0c34628-5643-4a3d-ff7e-64098b81a2c5"
      },
      "execution_count": null,
      "outputs": [
        {
          "output_type": "stream",
          "name": "stdout",
          "text": [
            "{'nouns': 2, 'pronouns': 2, 'verbs': 4, 'adjectives': 0}\n"
          ]
        },
        {
          "output_type": "stream",
          "name": "stderr",
          "text": [
            "[nltk_data] Downloading package punkt to /root/nltk_data...\n",
            "[nltk_data]   Package punkt is already up-to-date!\n",
            "[nltk_data] Downloading package averaged_perceptron_tagger to\n",
            "[nltk_data]     /root/nltk_data...\n",
            "[nltk_data]   Package averaged_perceptron_tagger is already up-to-\n",
            "[nltk_data]       date!\n"
          ]
        }
      ]
    }
  ]
}