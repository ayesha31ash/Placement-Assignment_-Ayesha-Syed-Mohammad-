{
  "nbformat": 4,
  "nbformat_minor": 0,
  "metadata": {
    "colab": {
      "provenance": []
    },
    "kernelspec": {
      "name": "python3",
      "display_name": "Python 3"
    },
    "language_info": {
      "name": "python"
    }
  },
  "cells": [
    {
      "cell_type": "markdown",
      "source": [
        "To calculate the probability that the number drawn from the hat is a perfect square, we need to determine the number of favorable outcomes (slips with perfect square numbers) and the total number of possible outcomes (total slips in the hat).\n",
        "\n",
        "In this case, the total number of possible outcomes is 20, as there are 20 slips in the hat representing numbers from 1 to 20.\n",
        "\n",
        "The favorable outcomes are slips with perfect square numbers: 1, 4, 9, and 16. There are 4 such slips.\n",
        "\n",
        "Therefore, the probability of drawing a slip with a perfect square number is:"
      ],
      "metadata": {
        "id": "y119JG9hGl0t"
      }
    },
    {
      "cell_type": "markdown",
      "source": [
        "Probability = (Number of favorable outcomes) / (Total number of possible outcomes)\n",
        "            = 4 / 20\n",
        "            = 0.2\n",
        "So, the probability that the number on the slip of paper is a perfect square is 0.2 or 20%."
      ],
      "metadata": {
        "id": "7EAnyF0vGrSw"
      }
    }
  ]
}