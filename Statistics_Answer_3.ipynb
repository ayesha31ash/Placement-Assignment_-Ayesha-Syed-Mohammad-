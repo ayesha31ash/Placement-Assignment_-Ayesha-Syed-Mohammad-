{
  "nbformat": 4,
  "nbformat_minor": 0,
  "metadata": {
    "colab": {
      "provenance": []
    },
    "kernelspec": {
      "name": "python3",
      "display_name": "Python 3"
    },
    "language_info": {
      "name": "python"
    }
  },
  "cells": [
    {
      "cell_type": "code",
      "execution_count": null,
      "metadata": {
        "id": "2M7yyVHL4okT"
      },
      "outputs": [],
      "source": [
        "import pandas as pd\n",
        "import numpy as np\n",
        "import matplotlib.pyplot as plt\n",
        "from scipy.stats import t\n",
        "\n",
        "# Step 1: Load the data\n",
        "df = pd.read_csv('/content/drive/MyDrive/data.csv')\n",
        "\n",
        "# Step 2: Measure the dispersion\n",
        "before_bp_dispersion = np.var(df['Blood Pressure Before (mmHg)'])\n",
        "after_bp_dispersion = np.var(df['Blood Pressure After (mmHg)'])\n",
        "\n",
        "# Step 3: Calculate mean and confidence interval\n",
        "mean_bp_before = np.mean(df['Blood Pressure Before (mmHg)'])\n",
        "mean_bp_after = np.mean(df['Blood Pressure After (mmHg)'])\n",
        "n = len(df)\n",
        "confidence_level = 0.95\n",
        "alpha = 1 - confidence_level\n",
        "std_error = np.std(df['Blood Pressure After (mmHg)'], ddof=1) / np.sqrt(n)\n",
        "t_critical = t.ppf(1 - alpha / 2, n - 1)\n",
        "margin_of_error = t_critical * std_error\n",
        "confidence_interval = (mean_bp_after - margin_of_error, mean_bp_after + margin_of_error)\n",
        "\n",
        "# Step 4: Calculate Mean Absolute Deviation (MAD) and Standard Deviation (SD)\n",
        "mad_bp_before = np.mean(np.abs(df['Blood Pressure Before (mmHg)'] - np.mean(df['Blood Pressure Before (mmHg)'])))\n",
        "sd_bp_after = np.std(df['Blood Pressure After (mmHg)'], ddof=1)\n",
        "\n",
        "# Step 5: Calculate correlation coefficient and perform significance test\n",
        "correlation_coefficient = np.corrcoef(df['Blood Pressure Before (mmHg)'], df['Blood Pressure After (mmHg)'])[0, 1]\n",
        "n = len(df)\n",
        "df_degrees_of_freedom = n - 2\n",
        "t_critical_significance = t.ppf(1 - 0.01, df_degrees_of_freedom)\n",
        "t_statistic = correlation_coefficient * np.sqrt((n - 2) / (1 - correlation_coefficient ** 2))\n",
        "is_significant = np.abs(t_statistic) > t_critical_significance\n",
        "\n",
        "# Print the results\n",
        "print(\"Dispersion:\")\n",
        "print(\"Before BP Dispersion:\", before_bp_dispersion)\n",
        "print(\"After BP Dispersion:\", after_bp_dispersion)\n",
        "print()\n",
        "print(\"Mean and Confidence Interval:\")\n",
        "print(\"Mean BP Before:\", mean_bp_before)\n",
        "print(\"Mean BP After:\", mean_bp_after)\n",
        "print(\"Confidence Interval (95%):\", confidence_interval)\n",
        "print()\n",
        "print(\"Mean Absolute Deviation (MAD) and Standard Deviation (SD):\")\n",
        "print(\"MAD BP Before:\", mad_bp_before)\n",
        "print(\"SD BP After:\", sd_bp_after)\n",
        "print()\n",
        "print(\"Correlation Coefficient and Significance Test:\")\n",
        "print(\"Correlation Coefficient:\", correlation_coefficient)\n",
        "print(\"Is Significant at 1% level?\", is_significant)\n"
      ]
    }
  ]
}